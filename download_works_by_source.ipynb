{
 "cells": [
  {
   "cell_type": "code",
   "execution_count": 1,
   "id": "fa4d1de6",
   "metadata": {},
   "outputs": [],
   "source": [
    "import pyalex\n",
    "from pyalex import Sources\n",
    "from pyalex import Works\n",
    "import os\n",
    "import itertools\n",
    "import pandas as pd"
   ]
  },
  {
   "cell_type": "code",
   "execution_count": 2,
   "id": "6e32f620",
   "metadata": {},
   "outputs": [
    {
     "name": "stdout",
     "output_type": "stream",
     "text": [
      "juho.paakkonen@helsinki.fi\n"
     ]
    }
   ],
   "source": [
    "# Give email to use polite pool, otherwise leave blank\n",
    "pyalex.config.email = input()"
   ]
  },
  {
   "cell_type": "code",
   "execution_count": 3,
   "id": "32f9054a",
   "metadata": {},
   "outputs": [
    {
     "name": "stdout",
     "output_type": "stream",
     "text": [
      "data/\n"
     ]
    }
   ],
   "source": [
    "data_dir = input()\n",
    "if not os.path.exists(data_dir): os.makedirs(data_dir)"
   ]
  },
  {
   "cell_type": "markdown",
   "id": "275a76fc",
   "metadata": {},
   "source": [
    "## Get sources"
   ]
  },
  {
   "cell_type": "code",
   "execution_count": 4,
   "id": "6cafb4d0",
   "metadata": {},
   "outputs": [
    {
     "name": "stdout",
     "output_type": "stream",
     "text": [
      "techlaw\n"
     ]
    }
   ],
   "source": [
    "field = input()\n",
    "journals = pd.read_csv(\"journals/\" + field + \".csv\")"
   ]
  },
  {
   "cell_type": "code",
   "execution_count": 5,
   "id": "f68d5b65",
   "metadata": {},
   "outputs": [
    {
     "data": {
      "text/plain": [
       "37"
      ]
     },
     "execution_count": 5,
     "metadata": {},
     "output_type": "execute_result"
    }
   ],
   "source": [
    "len(journals)"
   ]
  },
  {
   "cell_type": "code",
   "execution_count": 6,
   "id": "e3848a9b",
   "metadata": {},
   "outputs": [
    {
     "data": {
      "text/plain": [
       "33"
      ]
     },
     "execution_count": 6,
     "metadata": {},
     "output_type": "execute_result"
    }
   ],
   "source": [
    "# Get OA sources by journal issn\n",
    "# Iterate journals in smaller chunks, otherwise seems not to return all results\n",
    "chunks = [list(journals['issn_l'])[i:i+10] for i in range(0,len(journals),10)]\n",
    "\n",
    "sources = []\n",
    "for c in chunks:\n",
    "    query = \"|\".join( c )\n",
    "    results = Sources().filter(issn=query).get()\n",
    "    sources += results\n",
    "\n",
    "len(sources)"
   ]
  },
  {
   "cell_type": "markdown",
   "id": "63701aaa",
   "metadata": {},
   "source": [
    "#### Check and drop duplicates"
   ]
  },
  {
   "cell_type": "code",
   "execution_count": 7,
   "id": "0a7b8535",
   "metadata": {},
   "outputs": [],
   "source": [
    "# Turn sources to dataframe for duplicate removal\n",
    "sources = pd.DataFrame(sources)"
   ]
  },
  {
   "cell_type": "code",
   "execution_count": 8,
   "id": "16f2521f",
   "metadata": {},
   "outputs": [
    {
     "data": {
      "text/html": [
       "<div>\n",
       "<style scoped>\n",
       "    .dataframe tbody tr th:only-of-type {\n",
       "        vertical-align: middle;\n",
       "    }\n",
       "\n",
       "    .dataframe tbody tr th {\n",
       "        vertical-align: top;\n",
       "    }\n",
       "\n",
       "    .dataframe thead th {\n",
       "        text-align: right;\n",
       "    }\n",
       "</style>\n",
       "<table border=\"1\" class=\"dataframe\">\n",
       "  <thead>\n",
       "    <tr style=\"text-align: right;\">\n",
       "      <th></th>\n",
       "      <th>id</th>\n",
       "      <th>issn_l</th>\n",
       "      <th>issn</th>\n",
       "      <th>display_name</th>\n",
       "      <th>host_organization</th>\n",
       "      <th>host_organization_name</th>\n",
       "      <th>host_organization_lineage</th>\n",
       "      <th>works_count</th>\n",
       "      <th>cited_by_count</th>\n",
       "      <th>summary_stats</th>\n",
       "      <th>...</th>\n",
       "      <th>country_code</th>\n",
       "      <th>societies</th>\n",
       "      <th>alternate_titles</th>\n",
       "      <th>abbreviated_title</th>\n",
       "      <th>type</th>\n",
       "      <th>x_concepts</th>\n",
       "      <th>counts_by_year</th>\n",
       "      <th>works_api_url</th>\n",
       "      <th>updated_date</th>\n",
       "      <th>created_date</th>\n",
       "    </tr>\n",
       "  </thead>\n",
       "  <tbody>\n",
       "    <tr>\n",
       "      <th>5</th>\n",
       "      <td>https://openalex.org/S146518762</td>\n",
       "      <td>1757-7632</td>\n",
       "      <td>[1757-7632, 1757-7640]</td>\n",
       "      <td>The Journal of Media Law</td>\n",
       "      <td>https://openalex.org/P4310320547</td>\n",
       "      <td>Taylor &amp; Francis</td>\n",
       "      <td>[https://openalex.org/P4310320547]</td>\n",
       "      <td>267</td>\n",
       "      <td>741</td>\n",
       "      <td>{'2yr_mean_citedness': 0.0, 'h_index': 1, 'i10...</td>\n",
       "      <td>...</td>\n",
       "      <td>None</td>\n",
       "      <td>[]</td>\n",
       "      <td>[]</td>\n",
       "      <td>None</td>\n",
       "      <td>journal</td>\n",
       "      <td>[]</td>\n",
       "      <td>[{'year': 2023, 'works_count': 0, 'cited_by_co...</td>\n",
       "      <td>https://api.openalex.org/works?filter=primary_...</td>\n",
       "      <td>2023-04-25T21:47:25.571117</td>\n",
       "      <td>2016-06-24</td>\n",
       "    </tr>\n",
       "    <tr>\n",
       "      <th>6</th>\n",
       "      <td>https://openalex.org/S4210185934</td>\n",
       "      <td>1757-7632</td>\n",
       "      <td>[1757-7640, 1757-7632]</td>\n",
       "      <td>Journal Of Media Law</td>\n",
       "      <td>https://openalex.org/P4310320547</td>\n",
       "      <td>Taylor &amp; Francis</td>\n",
       "      <td>[https://openalex.org/P4310320547]</td>\n",
       "      <td>266</td>\n",
       "      <td>741</td>\n",
       "      <td>{'2yr_mean_citedness': 0.5217391304347826, 'h_...</td>\n",
       "      <td>...</td>\n",
       "      <td>GB</td>\n",
       "      <td>[]</td>\n",
       "      <td>[]</td>\n",
       "      <td>None</td>\n",
       "      <td>journal</td>\n",
       "      <td>[{'id': 'https://openalex.org/C17744445', 'wik...</td>\n",
       "      <td>[{'year': 2023, 'works_count': 0, 'cited_by_co...</td>\n",
       "      <td>https://api.openalex.org/works?filter=primary_...</td>\n",
       "      <td>2023-04-26T00:28:20.756622</td>\n",
       "      <td>2022-02-03</td>\n",
       "    </tr>\n",
       "  </tbody>\n",
       "</table>\n",
       "<p>2 rows × 26 columns</p>\n",
       "</div>"
      ],
      "text/plain": [
       "                                 id     issn_l                    issn  \\\n",
       "5   https://openalex.org/S146518762  1757-7632  [1757-7632, 1757-7640]   \n",
       "6  https://openalex.org/S4210185934  1757-7632  [1757-7640, 1757-7632]   \n",
       "\n",
       "               display_name                 host_organization  \\\n",
       "5  The Journal of Media Law  https://openalex.org/P4310320547   \n",
       "6      Journal Of Media Law  https://openalex.org/P4310320547   \n",
       "\n",
       "  host_organization_name           host_organization_lineage  works_count  \\\n",
       "5       Taylor & Francis  [https://openalex.org/P4310320547]          267   \n",
       "6       Taylor & Francis  [https://openalex.org/P4310320547]          266   \n",
       "\n",
       "   cited_by_count                                      summary_stats  ...  \\\n",
       "5             741  {'2yr_mean_citedness': 0.0, 'h_index': 1, 'i10...  ...   \n",
       "6             741  {'2yr_mean_citedness': 0.5217391304347826, 'h_...  ...   \n",
       "\n",
       "   country_code  societies alternate_titles abbreviated_title     type  \\\n",
       "5          None         []               []              None  journal   \n",
       "6            GB         []               []              None  journal   \n",
       "\n",
       "                                          x_concepts  \\\n",
       "5                                                 []   \n",
       "6  [{'id': 'https://openalex.org/C17744445', 'wik...   \n",
       "\n",
       "                                      counts_by_year  \\\n",
       "5  [{'year': 2023, 'works_count': 0, 'cited_by_co...   \n",
       "6  [{'year': 2023, 'works_count': 0, 'cited_by_co...   \n",
       "\n",
       "                                       works_api_url  \\\n",
       "5  https://api.openalex.org/works?filter=primary_...   \n",
       "6  https://api.openalex.org/works?filter=primary_...   \n",
       "\n",
       "                 updated_date created_date  \n",
       "5  2023-04-25T21:47:25.571117   2016-06-24  \n",
       "6  2023-04-26T00:28:20.756622   2022-02-03  \n",
       "\n",
       "[2 rows x 26 columns]"
      ]
     },
     "execution_count": 8,
     "metadata": {},
     "output_type": "execute_result"
    }
   ],
   "source": [
    "sources[sources.duplicated(subset='issn_l', keep=False)]"
   ]
  },
  {
   "cell_type": "code",
   "execution_count": 9,
   "id": "c6c8c774",
   "metadata": {},
   "outputs": [
    {
     "data": {
      "text/plain": [
       "32"
      ]
     },
     "execution_count": 9,
     "metadata": {},
     "output_type": "execute_result"
    }
   ],
   "source": [
    "sources.drop_duplicates(subset='issn_l', keep=\"last\", inplace=True)\n",
    "len(sources)"
   ]
  },
  {
   "cell_type": "markdown",
   "id": "b74c4c48",
   "metadata": {},
   "source": [
    "#### Check missing journals"
   ]
  },
  {
   "cell_type": "code",
   "execution_count": 10,
   "id": "11ae8735",
   "metadata": {},
   "outputs": [],
   "source": [
    "# Turn back to dicts\n",
    "sources = sources.to_dict('records')"
   ]
  },
  {
   "cell_type": "code",
   "execution_count": 11,
   "id": "22b0fd8d",
   "metadata": {},
   "outputs": [
    {
     "data": {
      "text/html": [
       "<div>\n",
       "<style scoped>\n",
       "    .dataframe tbody tr th:only-of-type {\n",
       "        vertical-align: middle;\n",
       "    }\n",
       "\n",
       "    .dataframe tbody tr th {\n",
       "        vertical-align: top;\n",
       "    }\n",
       "\n",
       "    .dataframe thead th {\n",
       "        text-align: right;\n",
       "    }\n",
       "</style>\n",
       "<table border=\"1\" class=\"dataframe\">\n",
       "  <thead>\n",
       "    <tr style=\"text-align: right;\">\n",
       "      <th></th>\n",
       "      <th>issn_l</th>\n",
       "      <th>journal</th>\n",
       "    </tr>\n",
       "  </thead>\n",
       "  <tbody>\n",
       "    <tr>\n",
       "      <th>3</th>\n",
       "      <td>0897-1277</td>\n",
       "      <td>Jurimetrics</td>\n",
       "    </tr>\n",
       "    <tr>\n",
       "      <th>7</th>\n",
       "      <td>2666-139X</td>\n",
       "      <td>Technology and Regulation</td>\n",
       "    </tr>\n",
       "    <tr>\n",
       "      <th>19</th>\n",
       "      <td>2736-4321</td>\n",
       "      <td>Journal of Cross-Disciplinary Research in Comp...</td>\n",
       "    </tr>\n",
       "    <tr>\n",
       "      <th>20</th>\n",
       "      <td>1543-8899</td>\n",
       "      <td>Journal of Telecommunications and High Technol...</td>\n",
       "    </tr>\n",
       "    <tr>\n",
       "      <th>28</th>\n",
       "      <td>1941-5788</td>\n",
       "      <td>Journal of Business and Technology Law</td>\n",
       "    </tr>\n",
       "  </tbody>\n",
       "</table>\n",
       "</div>"
      ],
      "text/plain": [
       "       issn_l                                            journal\n",
       "3   0897-1277                                        Jurimetrics\n",
       "7   2666-139X                          Technology and Regulation\n",
       "19  2736-4321  Journal of Cross-Disciplinary Research in Comp...\n",
       "20  1543-8899  Journal of Telecommunications and High Technol...\n",
       "28  1941-5788             Journal of Business and Technology Law"
      ]
     },
     "execution_count": 11,
     "metadata": {},
     "output_type": "execute_result"
    }
   ],
   "source": [
    "issn_list = [s['issn_l'] for s in sources]\n",
    "missing = journals[journals['issn_l'].apply( lambda issn: issn not in issn_list )]\n",
    "missing"
   ]
  },
  {
   "cell_type": "code",
   "execution_count": 12,
   "id": "be6d704e",
   "metadata": {},
   "outputs": [
    {
     "data": {
      "text/html": [
       "<div>\n",
       "<style scoped>\n",
       "    .dataframe tbody tr th:only-of-type {\n",
       "        vertical-align: middle;\n",
       "    }\n",
       "\n",
       "    .dataframe tbody tr th {\n",
       "        vertical-align: top;\n",
       "    }\n",
       "\n",
       "    .dataframe thead th {\n",
       "        text-align: right;\n",
       "    }\n",
       "</style>\n",
       "<table border=\"1\" class=\"dataframe\">\n",
       "  <thead>\n",
       "    <tr style=\"text-align: right;\">\n",
       "      <th></th>\n",
       "      <th>issn_l</th>\n",
       "      <th>journal</th>\n",
       "    </tr>\n",
       "  </thead>\n",
       "  <tbody>\n",
       "    <tr>\n",
       "      <th>7</th>\n",
       "      <td>2666-139X</td>\n",
       "      <td>Technology and Regulation</td>\n",
       "    </tr>\n",
       "    <tr>\n",
       "      <th>19</th>\n",
       "      <td>2736-4321</td>\n",
       "      <td>Journal of Cross-Disciplinary Research in Comp...</td>\n",
       "    </tr>\n",
       "    <tr>\n",
       "      <th>20</th>\n",
       "      <td>1543-8899</td>\n",
       "      <td>Journal of Telecommunications and High Technol...</td>\n",
       "    </tr>\n",
       "  </tbody>\n",
       "</table>\n",
       "</div>"
      ],
      "text/plain": [
       "       issn_l                                            journal\n",
       "7   2666-139X                          Technology and Regulation\n",
       "19  2736-4321  Journal of Cross-Disciplinary Research in Comp...\n",
       "20  1543-8899  Journal of Telecommunications and High Technol..."
      ]
     },
     "execution_count": 12,
     "metadata": {},
     "output_type": "execute_result"
    }
   ],
   "source": [
    "# Try to get missing journals by title\n",
    "missing_titles = list(missing['journal'])\n",
    "\n",
    "for title in missing_titles:\n",
    "    results = Sources().filter(display_name={\"search\":title}).get()\n",
    "    sources += results\n",
    "    if results:\n",
    "        missing = missing[missing['journal'] != title]\n",
    "        \n",
    "# Write missing journals to file\n",
    "missing.to_csv(data_dir + field + \"_missing.csv\", index=False)\n",
    "missing"
   ]
  },
  {
   "cell_type": "code",
   "execution_count": 13,
   "id": "a45e4ee1",
   "metadata": {},
   "outputs": [
    {
     "name": "stdout",
     "output_type": "stream",
     "text": [
      "Found 34 sources in total for techlaw\n"
     ]
    }
   ],
   "source": [
    "print(\"Found\", len(sources), \"sources in total for\", field)"
   ]
  },
  {
   "cell_type": "markdown",
   "id": "be21b4b8",
   "metadata": {},
   "source": [
    "## Get works"
   ]
  },
  {
   "cell_type": "code",
   "execution_count": 14,
   "id": "e66d819a",
   "metadata": {},
   "outputs": [],
   "source": [
    "s_ids_names = {s['id'].replace('https://openalex.org/','') : s['display_name'] for s in sources}"
   ]
  },
  {
   "cell_type": "code",
   "execution_count": 15,
   "id": "c1153052",
   "metadata": {},
   "outputs": [
    {
     "name": "stdout",
     "output_type": "stream",
     "text": [
      "Getting source: Computer Law & Security Review\n",
      "Getting source: Journal of Intellectual Property Law & Practice\n",
      "Getting source: Computer law review international\n",
      "Getting source: Artificial Intelligence and Law\n",
      "Getting source: Internet policy review\n",
      "Getting source: Journal Of Media Law\n",
      "Getting source: Journal of High Technology Law\n",
      "Getting source: Journal of Technology Law & Policy\n",
      "Getting source: Industrial Law Journal\n",
      "Getting source: European journal of risk regulation\n",
      "Getting source: International Review of Law, Computers & Technology\n",
      "Getting source: European Data Protection Law Review\n",
      "Getting source: International Journal of Law and Information Technology\n",
      "Getting source: International Data Privacy Law\n",
      "Getting source: Journal of International Commercial Law and Technology\n",
      "Getting source: Law, Innovation and Technology\n",
      "Getting source: Journal of responsible technology\n",
      "Getting source: European review of private law\n",
      "Getting source: Behavioral Sciences & The Law\n",
      "Getting source: Information & Communications Technology Law\n",
      "Getting source: Masaryk University journal of law and technology\n",
      "Getting source: Journal of European Tort Law\n",
      "Getting source: Journal of Cybersecurity\n",
      "Getting source: Studies in Ethics, Law and Technology\n",
      "Getting source: Global privacy law review\n",
      "Getting source: International Review of Intellectual Property and Competition Law\n",
      "Getting source: Regulation & Governance\n",
      "Getting source: SCRIPT-ed\n",
      "Getting source: Queen Mary Journal of Intellectual Property\n",
      "Getting source: Journal of European Consumer and Market Law\n",
      "Getting source: European journal of law and technology\n",
      "Getting source: International cybersecurity law review\n",
      "Getting source: Jurimetrics\n",
      "Getting source: Journal of Business and Technology Law\n"
     ]
    }
   ],
   "source": [
    "import time\n",
    "works = []\n",
    "for s_id in s_ids_names.keys():\n",
    "    print(\"Getting source:\", s_ids_names[s_id])\n",
    "    paginator = Works().filter(primary_location={\"source\" : {\"id\" : s_id}}).paginate(per_page=200)\n",
    "    works += list(itertools.chain.from_iterable(paginator))\n",
    "    time.sleep(10)"
   ]
  },
  {
   "cell_type": "code",
   "execution_count": 17,
   "id": "546349c3",
   "metadata": {},
   "outputs": [],
   "source": [
    "df = pd.DataFrame(works)\n",
    "df['abstract'] = [w['abstract'] for w in works]"
   ]
  },
  {
   "cell_type": "code",
   "execution_count": 21,
   "id": "aed164a9",
   "metadata": {},
   "outputs": [],
   "source": [
    "df.to_json(data_dir + field + \".json\")"
   ]
  }
 ],
 "metadata": {
  "kernelspec": {
   "display_name": "Python 3 (ipykernel)",
   "language": "python",
   "name": "python3"
  },
  "language_info": {
   "codemirror_mode": {
    "name": "ipython",
    "version": 3
   },
   "file_extension": ".py",
   "mimetype": "text/x-python",
   "name": "python",
   "nbconvert_exporter": "python",
   "pygments_lexer": "ipython3",
   "version": "3.10.0"
  }
 },
 "nbformat": 4,
 "nbformat_minor": 5
}
