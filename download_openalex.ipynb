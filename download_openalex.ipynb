{
 "cells": [
  {
   "cell_type": "code",
   "execution_count": null,
   "id": "fa4d1de6",
   "metadata": {},
   "outputs": [],
   "source": [
    "import pyalex\n",
    "from pyalex import Sources\n",
    "from pyalex import Works\n",
    "import itertools\n",
    "import pandas as pd"
   ]
  },
  {
   "cell_type": "code",
   "execution_count": null,
   "id": "6e32f620",
   "metadata": {},
   "outputs": [],
   "source": [
    "# Give email to use polite pool, otherwise leave blank\n",
    "pyalex.config.email = input()"
   ]
  },
  {
   "cell_type": "markdown",
   "id": "275a76fc",
   "metadata": {},
   "source": [
    "## Get sources"
   ]
  },
  {
   "cell_type": "code",
   "execution_count": null,
   "id": "6cafb4d0",
   "metadata": {},
   "outputs": [],
   "source": [
    "field = \"techlaw\"\n",
    "journals = pd.read_csv(\"journals/\" + field + \".csv\")"
   ]
  },
  {
   "cell_type": "code",
   "execution_count": null,
   "id": "f68d5b65",
   "metadata": {},
   "outputs": [],
   "source": [
    "len(journals)"
   ]
  },
  {
   "cell_type": "code",
   "execution_count": null,
   "id": "e3848a9b",
   "metadata": {},
   "outputs": [],
   "source": [
    "# Get OA sources by journal issn\n",
    "# Iterate journals in smaller chunks, otherwise seems not to return all results\n",
    "chunks = [list(journals['issn_l'])[i:i+10] for i in range(0,len(journals),10)]\n",
    "\n",
    "sources = []\n",
    "for c in chunks:\n",
    "    query = \"|\".join( c )\n",
    "    results = Sources().filter(issn=query).get()\n",
    "    sources += results\n",
    "\n",
    "len(sources)"
   ]
  },
  {
   "cell_type": "markdown",
   "id": "63701aaa",
   "metadata": {},
   "source": [
    "#### Check and drop duplicates"
   ]
  },
  {
   "cell_type": "code",
   "execution_count": null,
   "id": "0a7b8535",
   "metadata": {},
   "outputs": [],
   "source": [
    "# Turn to sources dataframe for duplicate removal\n",
    "sources = pd.DataFrame(sources)"
   ]
  },
  {
   "cell_type": "code",
   "execution_count": null,
   "id": "16f2521f",
   "metadata": {},
   "outputs": [],
   "source": [
    "sources[sources.duplicated(subset='issn_l', keep=False)]"
   ]
  },
  {
   "cell_type": "code",
   "execution_count": null,
   "id": "c6c8c774",
   "metadata": {},
   "outputs": [],
   "source": [
    "sources.drop_duplicates(subset='issn_l', keep=\"last\", inplace=True)\n",
    "len(sources)"
   ]
  },
  {
   "cell_type": "markdown",
   "id": "b74c4c48",
   "metadata": {},
   "source": [
    "#### Check missing journals"
   ]
  },
  {
   "cell_type": "code",
   "execution_count": null,
   "id": "11ae8735",
   "metadata": {},
   "outputs": [],
   "source": [
    "# Turn back to dicts\n",
    "sources = sources.to_dict('records')"
   ]
  },
  {
   "cell_type": "code",
   "execution_count": null,
   "id": "22b0fd8d",
   "metadata": {},
   "outputs": [],
   "source": [
    "issn_list = [s['issn_l'] for s in sources]\n",
    "missing = journals[journals['issn_l'].apply( lambda issn: issn not in issn_list )]\n",
    "missing"
   ]
  },
  {
   "cell_type": "code",
   "execution_count": null,
   "id": "be6d704e",
   "metadata": {},
   "outputs": [],
   "source": [
    "# Try to get missing journals by title\n",
    "missing_titles = list(missing['journal'])\n",
    "\n",
    "for title in missing_titles:\n",
    "    results = Sources().filter(display_name={\"search\":title}).get()\n",
    "    sources += results\n",
    "    if results:\n",
    "        missing = missing[missing['journal'] != title]\n",
    "        \n",
    "# Write missing journals to file\n",
    "missing.to_csv(\"data/\" + field + \"_missing.csv\", index=False)\n",
    "missing"
   ]
  },
  {
   "cell_type": "code",
   "execution_count": null,
   "id": "a45e4ee1",
   "metadata": {},
   "outputs": [],
   "source": [
    "# Should be True\n",
    "len(sources) + len(missing) == len(journals)\n",
    "\n",
    "print(len(sources), \"sources in total for\", field)"
   ]
  },
  {
   "cell_type": "markdown",
   "id": "be21b4b8",
   "metadata": {},
   "source": [
    "## Get works"
   ]
  },
  {
   "cell_type": "code",
   "execution_count": null,
   "id": "e66d819a",
   "metadata": {},
   "outputs": [],
   "source": [
    "s_ids_names = {s['id'].replace('https://openalex.org/','') : s['display_name'] for s in sources}"
   ]
  },
  {
   "cell_type": "code",
   "execution_count": null,
   "id": "c1153052",
   "metadata": {},
   "outputs": [],
   "source": [
    "import time\n",
    "works = []\n",
    "for s_id in s_ids_names.keys():\n",
    "    print(\"Getting source:\", s_ids_names[s_id])\n",
    "    paginator = Works().filter(primary_location={\"source\" : {\"id\" : s_id}}).paginate(per_page=200)\n",
    "    works += list(itertools.chain.from_iterable(paginator))\n",
    "    time.sleep(30)"
   ]
  },
  {
   "cell_type": "code",
   "execution_count": null,
   "id": "546349c3",
   "metadata": {},
   "outputs": [],
   "source": [
    "df = pd.DataFrame(works)\n",
    "df['abstract'] = [w['abstract'] for w in works]"
   ]
  },
  {
   "cell_type": "code",
   "execution_count": null,
   "id": "aed164a9",
   "metadata": {},
   "outputs": [],
   "source": [
    "df.to_csv(\"data/\" + field + \".csv\", index=False)\n",
    "df.to_json(\"data/\" + field + \".json\")"
   ]
  }
 ],
 "metadata": {
  "kernelspec": {
   "display_name": "Python 3 (ipykernel)",
   "language": "python",
   "name": "python3"
  },
  "language_info": {
   "codemirror_mode": {
    "name": "ipython",
    "version": 3
   },
   "file_extension": ".py",
   "mimetype": "text/x-python",
   "name": "python",
   "nbconvert_exporter": "python",
   "pygments_lexer": "ipython3",
   "version": "3.10.0"
  }
 },
 "nbformat": 4,
 "nbformat_minor": 5
}
