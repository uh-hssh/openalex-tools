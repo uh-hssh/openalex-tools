{
 "cells": [
  {
   "cell_type": "code",
   "execution_count": 1,
   "id": "862ad004",
   "metadata": {},
   "outputs": [],
   "source": [
    "import pandas as pd"
   ]
  },
  {
   "cell_type": "code",
   "execution_count": 2,
   "id": "e9c74689",
   "metadata": {},
   "outputs": [
    {
     "name": "stderr",
     "output_type": "stream",
     "text": [
      "/var/folders/f5/rvzjs9mx3vgdk4s76v2jw_tdrq3gy7/T/ipykernel_73842/3603634602.py:1: DtypeWarning: Columns (7,14,15,16,17,18,19,20,21,22,23,24,25,28,29,30,45,48,50,51,53,54,55,59,67,68) have mixed types. Specify dtype option on import or set low_memory=False.\n",
      "  df = pd.read_csv('data_full.csv')\n"
     ]
    }
   ],
   "source": [
    "df = pd.read_csv('data_full.csv')"
   ]
  },
  {
   "cell_type": "code",
   "execution_count": 22,
   "id": "fc32f7c0",
   "metadata": {},
   "outputs": [],
   "source": [
    "di = df['DI'].notna()\n",
    "ab = df['AB'].isna()"
   ]
  },
  {
   "cell_type": "code",
   "execution_count": 25,
   "id": "6c6f48b5",
   "metadata": {},
   "outputs": [],
   "source": [
    "df_doi = df[di & ab]"
   ]
  },
  {
   "cell_type": "code",
   "execution_count": 26,
   "id": "2e5115bc",
   "metadata": {},
   "outputs": [
    {
     "data": {
      "text/plain": [
       "69           10.2451/formadhal.54871\n",
       "98                 10.2345/work.5487\n",
       "109              10.15779/Z38ZC7RV79\n",
       "115             10.2139/ssrn.4040948\n",
       "117           10.4578/universal.5487\n",
       "                     ...            \n",
       "106687    10.1007/s40319-020-00981-4\n",
       "106688    10.1007/s40319-020-00955-6\n",
       "106698    10.1007/s40319-020-00915-0\n",
       "106699    10.1007/s40319-020-00920-3\n",
       "106700    10.1007/s40319-020-00916-z\n",
       "Name: DI, Length: 20796, dtype: object"
      ]
     },
     "execution_count": 26,
     "metadata": {},
     "output_type": "execute_result"
    }
   ],
   "source": [
    "df_doi['DI']"
   ]
  },
  {
   "cell_type": "code",
   "execution_count": 28,
   "id": "167a1491",
   "metadata": {},
   "outputs": [
    {
     "data": {
      "text/plain": [
       "69          AGGREGATION AND ABUSE: MASS TORTS IN BANKRUPTCY\n",
       "98                        Work Hours and Disability Justice\n",
       "109       The Unstoppable App Campaign: The Dangers of F...\n",
       "115                                Dealing with Dead Crimes\n",
       "117                BEHAVIORAL REALISM ABOUT COLOR CONFUSION\n",
       "                                ...                        \n",
       "106687    \"Constitutionality of the French Act Aimed at ...\n",
       "106688    \"Royalty Pharma Collection Trust'' Decision of...\n",
       "106698    \"Gawischnig-Piesczek'' Decision of the Europea...\n",
       "106699    \"Le Point Marianne\" Decision of the Supreme Co...\n",
       "106700    \"Google v. CNIL\" Decision of the European Cour...\n",
       "Name: TI, Length: 20796, dtype: object"
      ]
     },
     "execution_count": 28,
     "metadata": {},
     "output_type": "execute_result"
    }
   ],
   "source": [
    "df_doi['TI']"
   ]
  },
  {
   "cell_type": "code",
   "execution_count": 31,
   "id": "7ec76a46",
   "metadata": {},
   "outputs": [
    {
     "data": {
      "text/plain": [
       "69                                       FORDHAM LAW REVIEW\n",
       "98                                   GEORGETOWN LAW JOURNAL\n",
       "109                                   CALIFORNIA LAW REVIEW\n",
       "115                                  GEORGETOWN LAW JOURNAL\n",
       "117                            BOSTON UNIVERSITY LAW REVIEW\n",
       "                                ...                        \n",
       "106687    IIC-INTERNATIONAL REVIEW OF INTELLECTUAL PROPE...\n",
       "106688    IIC-INTERNATIONAL REVIEW OF INTELLECTUAL PROPE...\n",
       "106698    IIC-INTERNATIONAL REVIEW OF INTELLECTUAL PROPE...\n",
       "106699    IIC-INTERNATIONAL REVIEW OF INTELLECTUAL PROPE...\n",
       "106700    IIC-INTERNATIONAL REVIEW OF INTELLECTUAL PROPE...\n",
       "Name: SO, Length: 20796, dtype: object"
      ]
     },
     "execution_count": 31,
     "metadata": {},
     "output_type": "execute_result"
    }
   ],
   "source": [
    "df_doi['SO']"
   ]
  }
 ],
 "metadata": {
  "kernelspec": {
   "display_name": "Python 3 (ipykernel)",
   "language": "python",
   "name": "python3"
  },
  "language_info": {
   "codemirror_mode": {
    "name": "ipython",
    "version": 3
   },
   "file_extension": ".py",
   "mimetype": "text/x-python",
   "name": "python",
   "nbconvert_exporter": "python",
   "pygments_lexer": "ipython3",
   "version": "3.10.0"
  }
 },
 "nbformat": 4,
 "nbformat_minor": 5
}
