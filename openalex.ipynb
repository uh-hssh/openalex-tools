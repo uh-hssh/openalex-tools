{
 "cells": [
  {
   "cell_type": "code",
   "execution_count": 31,
   "id": "fa4d1de6",
   "metadata": {},
   "outputs": [],
   "source": [
    "import pyalex\n",
    "from pyalex import Sources\n",
    "from pyalex import Works"
   ]
  },
  {
   "cell_type": "code",
   "execution_count": 15,
   "id": "25763df8",
   "metadata": {},
   "outputs": [],
   "source": [
    "s = Sources().filter(issn=\"2325-9965|2076-328x\").get()"
   ]
  },
  {
   "cell_type": "code",
   "execution_count": 29,
   "id": "e666abf0",
   "metadata": {},
   "outputs": [],
   "source": [
    "s_id = s[1]['id'].split(\"/\")[3]"
   ]
  },
  {
   "cell_type": "code",
   "execution_count": 86,
   "id": "0d6d36cd",
   "metadata": {},
   "outputs": [],
   "source": [
    "paginator = Works().filter(primary_location={\"source\" : {\"id\" : s_id}}).paginate(per_page=25)"
   ]
  },
  {
   "cell_type": "code",
   "execution_count": 87,
   "id": "68e64783",
   "metadata": {},
   "outputs": [],
   "source": [
    "results = []\n",
    "for page in paginator:\n",
    "    results += page"
   ]
  }
 ],
 "metadata": {
  "kernelspec": {
   "display_name": "Python 3 (ipykernel)",
   "language": "python",
   "name": "python3"
  },
  "language_info": {
   "codemirror_mode": {
    "name": "ipython",
    "version": 3
   },
   "file_extension": ".py",
   "mimetype": "text/x-python",
   "name": "python",
   "nbconvert_exporter": "python",
   "pygments_lexer": "ipython3",
   "version": "3.10.0"
  }
 },
 "nbformat": 4,
 "nbformat_minor": 5
}
