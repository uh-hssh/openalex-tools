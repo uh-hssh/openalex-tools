{
 "cells": [
  {
   "cell_type": "code",
   "execution_count": null,
   "id": "616fbc25",
   "metadata": {},
   "outputs": [],
   "source": [
    "import pyalex\n",
    "from pyalex import Authors\n",
    "from pyalex import Works\n",
    "import os\n",
    "import itertools\n",
    "import pandas as pd"
   ]
  },
  {
   "cell_type": "code",
   "execution_count": null,
   "id": "6d2d3b6b",
   "metadata": {},
   "outputs": [],
   "source": [
    "# Give email to use polite pool, otherwise leave blank\n",
    "pyalex.config.email = input()"
   ]
  },
  {
   "cell_type": "code",
   "execution_count": null,
   "id": "a98671bf",
   "metadata": {},
   "outputs": [],
   "source": [
    "data_dir = \"data/\"\n",
    "if not os.path.exists(data_dir): os.makedirs(data_dir)"
   ]
  },
  {
   "cell_type": "markdown",
   "id": "d8e97250",
   "metadata": {},
   "source": [
    "## Download OA author ids using names"
   ]
  },
  {
   "cell_type": "code",
   "execution_count": null,
   "id": "47483310",
   "metadata": {},
   "outputs": [],
   "source": [
    "source_path = \"sources/\"\n",
    "filename = input()"
   ]
  },
  {
   "cell_type": "code",
   "execution_count": null,
   "id": "a7d267f1",
   "metadata": {},
   "outputs": [],
   "source": [
    "authors_sources = pd.read_csv(source_path + filename + \".csv\")\n",
    "authors_sources"
   ]
  },
  {
   "cell_type": "code",
   "execution_count": null,
   "id": "1077aa1c",
   "metadata": {},
   "outputs": [],
   "source": [
    "# Get lists of author objects grouped by display name\n",
    "author_objects = []\n",
    "\n",
    "for a in authors_sources['name']:\n",
    "    print(a)\n",
    "    author_objects.append( Authors().search_filter(display_name=a).get() )"
   ]
  },
  {
   "cell_type": "code",
   "execution_count": null,
   "id": "2aa4091d",
   "metadata": {},
   "outputs": [],
   "source": [
    "# Get author names and OA ids and save to list – need to check these by hand for relevance!\n",
    "\n",
    "authors_ids = []\n",
    "\n",
    "for author_list in authors_objects:   \n",
    "    for author in author_list:\n",
    "        authors_ids.append( (author['display_name'], author['id'], author['relevance_score'])  )\n",
    "        \n",
    "authors_ids_df = pd.DataFrame( authors_ids, columns=['name', 'id', 'relevance'] )\n",
    "\n",
    "authors_ids_df"
   ]
  },
  {
   "cell_type": "code",
   "execution_count": null,
   "id": "049c01e9",
   "metadata": {},
   "outputs": [],
   "source": [
    "# Save to csv for hand-checking\n",
    "authors_ids_df.to_csv('sources/authors_ids_unchecked.csv')"
   ]
  },
  {
   "cell_type": "markdown",
   "id": "c8ec1787",
   "metadata": {},
   "source": [
    "## Download works using OA author ids"
   ]
  },
  {
   "cell_type": "code",
   "execution_count": null,
   "id": "412d8c23",
   "metadata": {},
   "outputs": [],
   "source": [
    "source_path = \"sources/\"\n",
    "filename = input()"
   ]
  },
  {
   "cell_type": "code",
   "execution_count": null,
   "id": "3b77f5cc",
   "metadata": {},
   "outputs": [],
   "source": [
    "authors_ids = pd.read_csv(source_path + filename + \".csv\")"
   ]
  },
  {
   "cell_type": "code",
   "execution_count": null,
   "id": "6c0de570",
   "metadata": {},
   "outputs": [],
   "source": [
    "authors_ids"
   ]
  },
  {
   "cell_type": "code",
   "execution_count": null,
   "id": "36cc6698",
   "metadata": {},
   "outputs": [],
   "source": [
    "authors_works = {}\n",
    "\n",
    "for i, row in authors_ids.iterrows():\n",
    "    \n",
    "    author_name = row[0]\n",
    "    author_id = row[1]\n",
    "    \n",
    "    print(i, author_name, author_id)\n",
    "    \n",
    "    if author_name not in authors_works:\n",
    "        authors_works[author_name] = Works().filter( authorships={\"author\" : {'id' : author_id}} ).get()\n",
    "    else:\n",
    "        authors_works[author_name] += Works().filter( authorships={\"author\" : {'id' : author_id}} ).get()"
   ]
  },
  {
   "cell_type": "code",
   "execution_count": null,
   "id": "7d38e5c0",
   "metadata": {},
   "outputs": [],
   "source": [
    "authors_works.keys()"
   ]
  },
  {
   "cell_type": "code",
   "execution_count": null,
   "id": "01b3b4da",
   "metadata": {},
   "outputs": [],
   "source": [
    "import pickle\n",
    "\n",
    "# Dump works as dict\n",
    "with open('data/authors_works.p', 'wb') as fp:\n",
    "    pickle.dump(authors_works, fp, protocol=pickle.HIGHEST_PROTOCOL)"
   ]
  },
  {
   "cell_type": "markdown",
   "id": "4d0e153b",
   "metadata": {},
   "source": [
    "## Get unique works by author as csv"
   ]
  },
  {
   "cell_type": "code",
   "execution_count": null,
   "id": "4ff531f4",
   "metadata": {},
   "outputs": [],
   "source": []
  },
  {
   "cell_type": "markdown",
   "id": "3031819a",
   "metadata": {},
   "source": [
    "## Get author references"
   ]
  },
  {
   "cell_type": "code",
   "execution_count": null,
   "id": "9c0e859d",
   "metadata": {},
   "outputs": [],
   "source": []
  }
 ],
 "metadata": {
  "kernelspec": {
   "display_name": "Python 3 (ipykernel)",
   "language": "python",
   "name": "python3"
  },
  "language_info": {
   "codemirror_mode": {
    "name": "ipython",
    "version": 3
   },
   "file_extension": ".py",
   "mimetype": "text/x-python",
   "name": "python",
   "nbconvert_exporter": "python",
   "pygments_lexer": "ipython3",
   "version": "3.10.0"
  }
 },
 "nbformat": 4,
 "nbformat_minor": 5
}
