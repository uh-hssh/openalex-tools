{
 "cells": [
  {
   "cell_type": "code",
   "execution_count": 42,
   "id": "e0209c9f",
   "metadata": {},
   "outputs": [],
   "source": [
    "import glob\n",
    "import wosfile"
   ]
  },
  {
   "cell_type": "code",
   "execution_count": 43,
   "id": "24a2eaf1",
   "metadata": {},
   "outputs": [],
   "source": [
    "f = \"data/001_AGLR.txt\""
   ]
  },
  {
   "cell_type": "code",
   "execution_count": 47,
   "id": "841ca83f",
   "metadata": {},
   "outputs": [
    {
     "ename": "KeyError",
     "evalue": "'C3'",
     "output_type": "error",
     "traceback": [
      "\u001b[0;31m---------------------------------------------------------------------------\u001b[0m",
      "\u001b[0;31mKeyError\u001b[0m                                  Traceback (most recent call last)",
      "Cell \u001b[0;32mIn[47], line 2\u001b[0m\n\u001b[1;32m      1\u001b[0m g \u001b[38;5;241m=\u001b[39m wosfile\u001b[38;5;241m.\u001b[39mrecords_from(f)\n\u001b[0;32m----> 2\u001b[0m \u001b[38;5;28;43mlist\u001b[39;49m\u001b[43m(\u001b[49m\u001b[43mg\u001b[49m\u001b[43m)\u001b[49m\n",
      "File \u001b[0;32m/Library/Frameworks/Python.framework/Versions/3.10/lib/python3.10/site-packages/wosfile/record.py:118\u001b[0m, in \u001b[0;36mrecords_from\u001b[0;34m(fname, skip_empty, **kwargs)\u001b[0m\n\u001b[1;32m    107\u001b[0m \u001b[38;5;250m\u001b[39m\u001b[38;5;124;03m\"\"\"Get records from WoS file *fobj*\u001b[39;00m\n\u001b[1;32m    108\u001b[0m \n\u001b[1;32m    109\u001b[0m \u001b[38;5;124;03m:param fname: WoS file name(s)\u001b[39;00m\n\u001b[0;32m   (...)\u001b[0m\n\u001b[1;32m    115\u001b[0m \n\u001b[1;32m    116\u001b[0m \u001b[38;5;124;03m\"\"\"\u001b[39;00m\n\u001b[1;32m    117\u001b[0m \u001b[38;5;28;01mfor\u001b[39;00m wos_record \u001b[38;5;129;01min\u001b[39;00m read(fname, \u001b[38;5;241m*\u001b[39m\u001b[38;5;241m*\u001b[39mkwargs):\n\u001b[0;32m--> 118\u001b[0m     \u001b[38;5;28;01myield\u001b[39;00m \u001b[43mRecord\u001b[49m\u001b[43m(\u001b[49m\u001b[43mwos_record\u001b[49m\u001b[43m,\u001b[49m\u001b[43m \u001b[49m\u001b[43mskip_empty\u001b[49m\u001b[43m)\u001b[49m\n",
      "File \u001b[0;32m/Library/Frameworks/Python.framework/Versions/3.10/lib/python3.10/site-packages/wosfile/record.py:27\u001b[0m, in \u001b[0;36mRecord.__init__\u001b[0;34m(self, wos_data, skip_empty)\u001b[0m\n\u001b[1;32m     25\u001b[0m \u001b[38;5;28mself\u001b[39m\u001b[38;5;241m.\u001b[39mskip_empty \u001b[38;5;241m=\u001b[39m skip_empty\n\u001b[1;32m     26\u001b[0m \u001b[38;5;28;01mif\u001b[39;00m wos_data:\n\u001b[0;32m---> 27\u001b[0m     \u001b[38;5;28;43mself\u001b[39;49m\u001b[38;5;241;43m.\u001b[39;49m\u001b[43mparse\u001b[49m\u001b[43m(\u001b[49m\u001b[43mwos_data\u001b[49m\u001b[43m)\u001b[49m\n",
      "File \u001b[0;32m/Library/Frameworks/Python.framework/Versions/3.10/lib/python3.10/site-packages/wosfile/record.py:39\u001b[0m, in \u001b[0;36mRecord.parse\u001b[0;34m(self, wos_data)\u001b[0m\n\u001b[1;32m     37\u001b[0m \u001b[38;5;28;01mif\u001b[39;00m \u001b[38;5;28mself\u001b[39m\u001b[38;5;241m.\u001b[39mskip_empty \u001b[38;5;129;01mand\u001b[39;00m \u001b[38;5;129;01mnot\u001b[39;00m value:\n\u001b[1;32m     38\u001b[0m     \u001b[38;5;28;01mcontinue\u001b[39;00m\n\u001b[0;32m---> 39\u001b[0m \u001b[38;5;28;01mif\u001b[39;00m \u001b[43mis_splittable\u001b[49m\u001b[43m[\u001b[49m\u001b[43mfield_name\u001b[49m\u001b[43m]\u001b[49m:\n\u001b[1;32m     40\u001b[0m     \u001b[38;5;28mself\u001b[39m[field_name] \u001b[38;5;241m=\u001b[39m split_by(value, \u001b[38;5;124m\"\u001b[39m\u001b[38;5;124m;\u001b[39m\u001b[38;5;124m\"\u001b[39m)\n\u001b[1;32m     41\u001b[0m \u001b[38;5;28;01melse\u001b[39;00m:  \u001b[38;5;66;03m# No parsing needed\u001b[39;00m\n",
      "\u001b[0;31mKeyError\u001b[0m: 'C3'"
     ]
    }
   ],
   "source": [
    "g = wosfile.records_from(f)\n",
    "list(g)"
   ]
  },
  {
   "cell_type": "code",
   "execution_count": 32,
   "id": "8ccf6f9f",
   "metadata": {},
   "outputs": [],
   "source": [
    "\n",
    "from collections import Counter\n",
    "\n",
    "subject_cats = Counter()\n",
    "# Create a list of all relevant files. Our folder may contain multiple export files.\n",
    "files = glob.glob(\"data/savedrecs*.txt\")\n",
    "\n",
    "# wosfile will read each file in the list in turn and yield each record\n",
    "# for further handling\n",
    "for rec in wosfile.records_from(files):\n",
    "    # Records are very thin wrappers around a standard Python dict,\n",
    "    # whose keys are the WoS field tags.\n",
    "    # Here we look at the SC field (subject categories) and update our counter\n",
    "    # with the categories in each record.\n",
    "    subject_cats.update(rec.get(\"SC\"))\n",
    "\n",
    "# Show the five most common subject categories in the data and their number.\n",
    "print(subject_cats.most_common(5))"
   ]
  }
 ],
 "metadata": {
  "kernelspec": {
   "display_name": "Python 3 (ipykernel)",
   "language": "python",
   "name": "python3"
  },
  "language_info": {
   "codemirror_mode": {
    "name": "ipython",
    "version": 3
   },
   "file_extension": ".py",
   "mimetype": "text/x-python",
   "name": "python",
   "nbconvert_exporter": "python",
   "pygments_lexer": "ipython3",
   "version": "3.10.0"
  }
 },
 "nbformat": 4,
 "nbformat_minor": 5
}
